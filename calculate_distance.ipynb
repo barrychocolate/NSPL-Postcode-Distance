{
 "cells": [
  {
   "cell_type": "code",
   "execution_count": 1,
   "metadata": {},
   "outputs": [],
   "source": [
    "import pandas as pd\n",
    "import math"
   ]
  },
  {
   "cell_type": "code",
   "execution_count": 2,
   "metadata": {},
   "outputs": [],
   "source": [
    "# path to the NSPL file\n",
    "# download from https://geoportal.statistics.gov.uk/search?q=PRD_NSPL%20MAY_2024&sort=Date%20Created%7Ccreated%7Cdesc\n",
    "nspl_path = 'data/NSPL21_MAY_2024_UK.csv'"
   ]
  },
  {
   "cell_type": "code",
   "execution_count": 3,
   "metadata": {},
   "outputs": [],
   "source": [
    "# only loading the postcode and northing and easting columns\n",
    "columns_to_load = ['pcds', 'oseast1m', 'osnrth1m']\n",
    "nspl_df = pd.read_csv(nspl_path, usecols=columns_to_load)"
   ]
  },
  {
   "cell_type": "code",
   "execution_count": 4,
   "metadata": {},
   "outputs": [],
   "source": [
    "def format_postcode(postcode):\n",
    "    \"\"\"\n",
    "    Function to format a postcode.\n",
    "    Remove any spaces and convert to uppercase.\n",
    "    Insert a space the fourth character from the end.\n",
    "    \"\"\"\n",
    "    cleaned_postcode = postcode.replace(\" \", \"\").upper()\n",
    "    formatted_postcode = cleaned_postcode[:-3] + ' ' + cleaned_postcode[-3:]\n",
    "    return formatted_postcode"
   ]
  },
  {
   "cell_type": "code",
   "execution_count": 5,
   "metadata": {},
   "outputs": [],
   "source": [
    "def get_postcode_coordinates(postcode, df):\n",
    "    \"\"\"\n",
    "    Function to get northing and easting for a given postcode.\n",
    "    Format postcode to uppercase with correct spacing.\n",
    "    \"\"\"\n",
    "    formatted_postcode = format_postcode(postcode)\n",
    "    result = df[df['pcds'] == formatted_postcode]\n",
    "\n",
    "    if result.empty:\n",
    "        return None, None\n",
    "\n",
    "    northing = result['osnrth1m'].values[0]\n",
    "    easting = result['oseast1m'].values[0]\n",
    "\n",
    "    return northing, easting"
   ]
  },
  {
   "cell_type": "code",
   "execution_count": 6,
   "metadata": {},
   "outputs": [],
   "source": [
    "def calculate_distance(start_pcode, end_pcode):\n",
    "    \"\"\"\n",
    "    Function to calculate distance between two postcodes.\n",
    "    \"\"\"\n",
    "    northing1, easting1 = get_postcode_coordinates(start_pcode, nspl_df)\n",
    "    northing2, easting2 = get_postcode_coordinates(end_pcode, nspl_df)\n",
    "\n",
    "    if northing1 is None or northing2 is None or easting1 is None or easting2 is None:\n",
    "        return None  # Return None if any of the coordinates are not found\n",
    "\n",
    "    # Calculate the deltas\n",
    "    delta_easting = easting2 - easting1\n",
    "    delta_northing = northing2 - northing1\n",
    "\n",
    "    # Use Pythagorean theorem to calculate the distance\n",
    "    distance = math.sqrt(delta_easting**2 + delta_northing**2)\n",
    "    return distance"
   ]
  },
  {
   "cell_type": "code",
   "execution_count": 26,
   "metadata": {},
   "outputs": [
    {
     "name": "stdout",
     "output_type": "stream",
     "text": [
      "   id start_postcode end_postcode\n",
      "0   1       EC1P 1DR      PO4 9UG\n",
      "1   2       BN52 9XH       W4 2RJ\n",
      "2   3        W1F 7BY      WA7 5JW\n",
      "3   4        LE8 0TR      L39 3LN\n",
      "4   5        BS4 2PJ     WF10 1BY\n",
      "   id start_postcode end_postcode  distance_meters\n",
      "0   1       EC1P 1DR      PO4 9UG    104185.861699\n",
      "1   2       BN52 9XH       W4 2RJ     72051.905402\n",
      "2   3        W1F 7BY      WA7 5JW    267797.017431\n",
      "3   4        LE8 0TR      L39 3LN    169318.410842\n",
      "4   5        BS4 2PJ     WF10 1BY    267124.975255\n"
     ]
    }
   ],
   "source": [
    "# generate test data\n",
    "data = {\n",
    "    'id': [1, 2, 3, 4, 5],\n",
    "    'start_postcode': ['EC1P 1DR', 'BN52 9XH', 'W1F 7BY', 'LE8 0TR', 'BS4 2PJ'],\n",
    "    'end_postcode': ['PO4 9UG', 'W4 2RJ', 'WA7 5JW', 'L39 3LN', 'WF10 1BY']\n",
    "}\n",
    "\n",
    "# Convert the dictionary into a pandas DataFrame\n",
    "df = pd.DataFrame(data)\n",
    "\n",
    "# Display the DataFrame\n",
    "print(df)\n",
    "\n",
    "# cacluate the distance\n",
    "df['distance_meters'] = df.apply(lambda row: calculate_distance(row['start_postcode'], row['end_postcode']), axis=1)\n",
    "\n",
    "# Display the DataFrame with the distance\n",
    "print(df)"
   ]
  },
  {
   "cell_type": "code",
   "execution_count": 24,
   "metadata": {},
   "outputs": [
    {
     "data": {
      "text/html": [
       "<div>\n",
       "<style scoped>\n",
       "    .dataframe tbody tr th:only-of-type {\n",
       "        vertical-align: middle;\n",
       "    }\n",
       "\n",
       "    .dataframe tbody tr th {\n",
       "        vertical-align: top;\n",
       "    }\n",
       "\n",
       "    .dataframe thead th {\n",
       "        text-align: right;\n",
       "    }\n",
       "</style>\n",
       "<table border=\"1\" class=\"dataframe\">\n",
       "  <thead>\n",
       "    <tr style=\"text-align: right;\">\n",
       "      <th></th>\n",
       "      <th>pcds</th>\n",
       "      <th>oseast1m</th>\n",
       "      <th>osnrth1m</th>\n",
       "    </tr>\n",
       "  </thead>\n",
       "  <tbody>\n",
       "    <tr>\n",
       "      <th>1142999</th>\n",
       "      <td>JE2 3GP</td>\n",
       "      <td>NaN</td>\n",
       "      <td>NaN</td>\n",
       "    </tr>\n",
       "    <tr>\n",
       "      <th>774338</th>\n",
       "      <td>EC1P 1DR</td>\n",
       "      <td>531073.0</td>\n",
       "      <td>182317.0</td>\n",
       "    </tr>\n",
       "    <tr>\n",
       "      <th>2621411</th>\n",
       "      <td>WN5 8UQ</td>\n",
       "      <td>352342.0</td>\n",
       "      <td>404295.0</td>\n",
       "    </tr>\n",
       "    <tr>\n",
       "      <th>2571668</th>\n",
       "      <td>WA8 8GT</td>\n",
       "      <td>349367.0</td>\n",
       "      <td>384211.0</td>\n",
       "    </tr>\n",
       "    <tr>\n",
       "      <th>1527563</th>\n",
       "      <td>NE12 0DP</td>\n",
       "      <td>426500.0</td>\n",
       "      <td>570500.0</td>\n",
       "    </tr>\n",
       "    <tr>\n",
       "      <th>1884463</th>\n",
       "      <td>PO4 9UG</td>\n",
       "      <td>467990.0</td>\n",
       "      <td>99400.0</td>\n",
       "    </tr>\n",
       "    <tr>\n",
       "      <th>1565713</th>\n",
       "      <td>NE66 3EP</td>\n",
       "      <td>424219.0</td>\n",
       "      <td>624243.0</td>\n",
       "    </tr>\n",
       "    <tr>\n",
       "      <th>2610309</th>\n",
       "      <td>WF4 2LE</td>\n",
       "      <td>432968.0</td>\n",
       "      <td>414011.0</td>\n",
       "    </tr>\n",
       "    <tr>\n",
       "      <th>1879100</th>\n",
       "      <td>PO30 9UE</td>\n",
       "      <td>450180.0</td>\n",
       "      <td>89236.0</td>\n",
       "    </tr>\n",
       "    <tr>\n",
       "      <th>992782</th>\n",
       "      <td>GU8 5US</td>\n",
       "      <td>494675.0</td>\n",
       "      <td>138319.0</td>\n",
       "    </tr>\n",
       "  </tbody>\n",
       "</table>\n",
       "</div>"
      ],
      "text/plain": [
       "             pcds  oseast1m  osnrth1m\n",
       "1142999   JE2 3GP       NaN       NaN\n",
       "774338   EC1P 1DR  531073.0  182317.0\n",
       "2621411   WN5 8UQ  352342.0  404295.0\n",
       "2571668   WA8 8GT  349367.0  384211.0\n",
       "1527563  NE12 0DP  426500.0  570500.0\n",
       "1884463   PO4 9UG  467990.0   99400.0\n",
       "1565713  NE66 3EP  424219.0  624243.0\n",
       "2610309   WF4 2LE  432968.0  414011.0\n",
       "1879100  PO30 9UE  450180.0   89236.0\n",
       "992782    GU8 5US  494675.0  138319.0"
      ]
     },
     "execution_count": 24,
     "metadata": {},
     "output_type": "execute_result"
    }
   ],
   "source": [
    "nspl_df.sample(10)"
   ]
  },
  {
   "cell_type": "code",
   "execution_count": null,
   "metadata": {},
   "outputs": [],
   "source": []
  }
 ],
 "metadata": {
  "kernelspec": {
   "display_name": "Python 3",
   "language": "python",
   "name": "python3"
  },
  "language_info": {
   "codemirror_mode": {
    "name": "ipython",
    "version": 3
   },
   "file_extension": ".py",
   "mimetype": "text/x-python",
   "name": "python",
   "nbconvert_exporter": "python",
   "pygments_lexer": "ipython3",
   "version": "3.9.13"
  }
 },
 "nbformat": 4,
 "nbformat_minor": 2
}
