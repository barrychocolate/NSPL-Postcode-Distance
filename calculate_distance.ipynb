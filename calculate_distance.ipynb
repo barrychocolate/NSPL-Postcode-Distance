{
 "cells": [
  {
   "cell_type": "markdown",
   "metadata": {},
   "source": [
    "# Project Setup"
   ]
  },
  {
   "cell_type": "code",
   "execution_count": 1,
   "metadata": {},
   "outputs": [],
   "source": [
    "import pandas as pd\n",
    "import math\n",
    "import numpy as np\n",
    "from pathlib import Path"
   ]
  },
  {
   "cell_type": "code",
   "execution_count": 2,
   "metadata": {},
   "outputs": [],
   "source": [
    "# path to the NSPL file\n",
    "# download from https://geoportal.statistics.gov.uk/search?q=PRD_NSPL%20MAY_2024&sort=Date%20Created%7Ccreated%7Cdesc\n",
    "nspl_path = 'data/NSPL21_MAY_2024_UK.csv'\n",
    "\n",
    "# path to csv containing the postcodes to calucalte the distance between\n",
    "data_to_process_path = 'data/postcodes_to_process.csv'\n",
    "\n",
    "# path to store results\n",
    "postcodes_with_distance_path = 'data/postcodes_with_distance.csv'\n",
    "\n",
    "# path to store outliers\n",
    "outliers_path = 'data/outliers.csv'"
   ]
  },
  {
   "cell_type": "code",
   "execution_count": 3,
   "metadata": {},
   "outputs": [
    {
     "name": "stdout",
     "output_type": "stream",
     "text": [
      "The file data\\postcodes_to_process.csv exists.\n"
     ]
    }
   ],
   "source": [
    "\n",
    "\n",
    "# Define the file path\n",
    "file_path = Path(data_to_process_path)\n",
    "\n",
    "# Check if the file exists\n",
    "if file_path.exists():\n",
    "    print(f\"The file {file_path} exists.\")\n",
    "else:\n",
    "    print(f\"The file {file_path} does not exists.  Creating sample file\")\n",
    "    \n",
    "    # create a file\n",
    "    data = {\n",
    "        'id': [1, 2, 3, 4, 5],\n",
    "        'start_postcode': ['AB1 0AA', 'BD21 3RU', 'DD10 8DS', 'HP2 7QL', 'NE12 0XS'],\n",
    "        'end_postcode': ['AB1 0AX', 'BD21 3SF', 'DD10 8DT', 'HP2 7QX', 'G84 9EP']\n",
    "    }\n",
    "\n",
    "    # Convert the dictionary into a pandas DataFrame\n",
    "    df = pd.DataFrame(data)\n",
    "\n",
    "    # write \n",
    "    df.to_csv(data_to_process_path, index=False)"
   ]
  },
  {
   "cell_type": "markdown",
   "metadata": {},
   "source": [
    "# Load Data"
   ]
  },
  {
   "cell_type": "code",
   "execution_count": 4,
   "metadata": {},
   "outputs": [],
   "source": [
    "# only loading the postcode and northing and easting columns\n",
    "columns_to_load = ['pcds', 'oseast1m', 'osnrth1m']\n",
    "nspl_df = pd.read_csv(nspl_path, usecols=columns_to_load)"
   ]
  },
  {
   "cell_type": "markdown",
   "metadata": {},
   "source": [
    "# Functions"
   ]
  },
  {
   "cell_type": "code",
   "execution_count": 5,
   "metadata": {},
   "outputs": [],
   "source": [
    "def format_postcode(postcode):\n",
    "    \"\"\"\n",
    "    Function to format a postcode.\n",
    "    Remove any spaces and convert to uppercase.\n",
    "    Insert a space the fourth character from the end.\n",
    "    \"\"\"\n",
    "    cleaned_postcode = postcode.replace(\" \", \"\").upper()\n",
    "    formatted_postcode = cleaned_postcode[:-3] + ' ' + cleaned_postcode[-3:]\n",
    "    return formatted_postcode"
   ]
  },
  {
   "cell_type": "code",
   "execution_count": 6,
   "metadata": {},
   "outputs": [],
   "source": [
    "def get_postcode_coordinates(postcode, df):\n",
    "    \"\"\"\n",
    "    Function to get northing and easting for a given postcode.\n",
    "    Format postcode to uppercase with correct spacing.\n",
    "    \"\"\"\n",
    "    formatted_postcode = format_postcode(postcode)\n",
    "    result = df[df['pcds'] == formatted_postcode]\n",
    "\n",
    "    if result.empty:\n",
    "        return None, None\n",
    "\n",
    "    northing = result['osnrth1m'].values[0]\n",
    "    easting = result['oseast1m'].values[0]\n",
    "\n",
    "    return northing, easting"
   ]
  },
  {
   "cell_type": "code",
   "execution_count": 7,
   "metadata": {},
   "outputs": [],
   "source": [
    "def calculate_distance(start_pcode, end_pcode):\n",
    "    \"\"\"\n",
    "    Function to calculate distance between two postcodes.\n",
    "    \"\"\"\n",
    "    northing1, easting1 = get_postcode_coordinates(start_pcode, nspl_df)\n",
    "    northing2, easting2 = get_postcode_coordinates(end_pcode, nspl_df)\n",
    "\n",
    "    if northing1 is None or northing2 is None or easting1 is None or easting2 is None:\n",
    "        return None  # Return None if any of the coordinates are not found\n",
    "\n",
    "    # Calculate the deltas\n",
    "    delta_easting = easting2 - easting1\n",
    "    delta_northing = northing2 - northing1\n",
    "\n",
    "    # Use Pythagorean theorem to calculate the distance\n",
    "    distance = math.sqrt(delta_easting**2 + delta_northing**2)\n",
    "    return distance"
   ]
  },
  {
   "cell_type": "markdown",
   "metadata": {},
   "source": [
    "# Calculate the distance"
   ]
  },
  {
   "cell_type": "code",
   "execution_count": 8,
   "metadata": {},
   "outputs": [
    {
     "name": "stdout",
     "output_type": "stream",
     "text": [
      "   id start_postcode end_postcode  distance_meters\n",
      "0   1        AB1 0AA      AB1 0AX       713.431847\n",
      "1   2       BD21 3RU     BD21 3SF       383.985677\n",
      "2   3       DD10 8DS     DD10 8DT        71.867934\n",
      "3   4        HP2 7QL      HP2 7QX       534.113284\n",
      "4   5       NE12 0XS      G84 9EP    225088.078496\n"
     ]
    }
   ],
   "source": [
    "# Load data to process\n",
    "df = pd.read_csv(data_to_process_path)\n",
    "\n",
    "# cacluate the distance\n",
    "df['distance_meters'] = df.apply(lambda row: calculate_distance(row['start_postcode'], row['end_postcode']), axis=1)\n",
    "\n",
    "# save the results to csv\n",
    "df.to_csv(postcodes_with_distance_path, index=False)\n",
    "\n",
    "# Display the DataFrame with the distance\n",
    "print(df)"
   ]
  },
  {
   "cell_type": "markdown",
   "metadata": {},
   "source": [
    "# Identify Outliers Using IQR Method"
   ]
  },
  {
   "cell_type": "code",
   "execution_count": 12,
   "metadata": {},
   "outputs": [
    {
     "name": "stdout",
     "output_type": "stream",
     "text": [
      "Outliers\n",
      "---------\n"
     ]
    },
    {
     "data": {
      "text/html": [
       "<div>\n",
       "<style scoped>\n",
       "    .dataframe tbody tr th:only-of-type {\n",
       "        vertical-align: middle;\n",
       "    }\n",
       "\n",
       "    .dataframe tbody tr th {\n",
       "        vertical-align: top;\n",
       "    }\n",
       "\n",
       "    .dataframe thead th {\n",
       "        text-align: right;\n",
       "    }\n",
       "</style>\n",
       "<table border=\"1\" class=\"dataframe\">\n",
       "  <thead>\n",
       "    <tr style=\"text-align: right;\">\n",
       "      <th></th>\n",
       "      <th>id</th>\n",
       "      <th>start_postcode</th>\n",
       "      <th>end_postcode</th>\n",
       "      <th>distance_meters</th>\n",
       "    </tr>\n",
       "  </thead>\n",
       "  <tbody>\n",
       "    <tr>\n",
       "      <th>4</th>\n",
       "      <td>5</td>\n",
       "      <td>NE12 0XS</td>\n",
       "      <td>G84 9EP</td>\n",
       "      <td>225088.078496</td>\n",
       "    </tr>\n",
       "  </tbody>\n",
       "</table>\n",
       "</div>"
      ],
      "text/plain": [
       "   id start_postcode end_postcode  distance_meters\n",
       "4   5       NE12 0XS      G84 9EP    225088.078496"
      ]
     },
     "metadata": {},
     "output_type": "display_data"
    }
   ],
   "source": [
    "# Calculate Q1 (25th percentile) and Q3 (75th percentile)\n",
    "Q1 = df['distance_meters'].quantile(0.25)\n",
    "Q3 = df['distance_meters'].quantile(0.75)\n",
    "\n",
    "# Calculate the IQR (Interquartile Range)\n",
    "IQR = Q3 - Q1\n",
    "\n",
    "# Define the outlier boundaries\n",
    "lower_bound = Q1 - 1.5 * IQR\n",
    "upper_bound = Q3 + 1.5 * IQR\n",
    "\n",
    "# Identify outliers\n",
    "outliers_df = df[(df['distance_meters'] < lower_bound) |\n",
    "              (df['distance_meters'] > upper_bound)]\n",
    "\n",
    "# store the results\n",
    "outliers_df.to_csv(outliers_path, index=False)\n",
    "\n",
    "# display the outliers\n",
    "print('Outliers\\n---------')\n",
    "display(outliers_df)"
   ]
  }
 ],
 "metadata": {
  "kernelspec": {
   "display_name": "Python 3",
   "language": "python",
   "name": "python3"
  },
  "language_info": {
   "codemirror_mode": {
    "name": "ipython",
    "version": 3
   },
   "file_extension": ".py",
   "mimetype": "text/x-python",
   "name": "python",
   "nbconvert_exporter": "python",
   "pygments_lexer": "ipython3",
   "version": "3.9.13"
  }
 },
 "nbformat": 4,
 "nbformat_minor": 2
}
